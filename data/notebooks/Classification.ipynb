{
 "cells": [
  {
   "cell_type": "markdown",
   "id": "43b237c3-5ff4-42c9-b0b7-e861edb5320d",
   "metadata": {},
   "source": [
    "# Loading the training data and dependecies"
   ]
  },
  {
   "cell_type": "code",
   "execution_count": 1,
   "id": "9d8633d4-a4d9-4ca5-80c2-89c18461e35c",
   "metadata": {},
   "outputs": [
    {
     "name": "stdout",
     "output_type": "stream",
     "text": [
      "True\n"
     ]
    }
   ],
   "source": [
    "import torch\n",
    "print(torch.cuda.is_available())"
   ]
  },
  {
   "cell_type": "code",
   "execution_count": 2,
   "id": "92638618-3bf3-47d1-9321-66f61ac39658",
   "metadata": {},
   "outputs": [],
   "source": [
    "from IPython.display import clear_output"
   ]
  },
  {
   "cell_type": "code",
   "execution_count": 3,
   "id": "9f7a4429-b8b8-478d-8a4c-0b15540bb3e5",
   "metadata": {},
   "outputs": [],
   "source": [
    "import pandas as pd\n",
    "import numpy as np\n",
    "from sklearn.model_selection import train_test_split\n",
    "import re\n",
    "import sklearn\n",
    "import itertools\n",
    "import emoji\n",
    "from simpletransformers.classification import ClassificationModel"
   ]
  },
  {
   "cell_type": "code",
   "execution_count": 4,
   "id": "e87bac19-2fba-4edc-be49-d7784f74914e",
   "metadata": {},
   "outputs": [],
   "source": [
    "# Training data\n",
    "t_train = pd.read_csv(\"..\\\\raw\\\\covid_labeled.csv\", usecols=[\"text\", \"target\"])"
   ]
  },
  {
   "cell_type": "code",
   "execution_count": 5,
   "id": "68901cd1-1c3c-41d7-9e11-49caa31b2598",
   "metadata": {},
   "outputs": [
    {
     "data": {
      "text/html": [
       "<div>\n",
       "<style scoped>\n",
       "    .dataframe tbody tr th:only-of-type {\n",
       "        vertical-align: middle;\n",
       "    }\n",
       "\n",
       "    .dataframe tbody tr th {\n",
       "        vertical-align: top;\n",
       "    }\n",
       "\n",
       "    .dataframe thead th {\n",
       "        text-align: right;\n",
       "    }\n",
       "</style>\n",
       "<table border=\"1\" class=\"dataframe\">\n",
       "  <thead>\n",
       "    <tr style=\"text-align: right;\">\n",
       "      <th></th>\n",
       "      <th>text</th>\n",
       "      <th>target</th>\n",
       "    </tr>\n",
       "  </thead>\n",
       "  <tbody>\n",
       "    <tr>\n",
       "      <th>0</th>\n",
       "      <td>Facebook posts shared in at least three countr...</td>\n",
       "      <td>1</td>\n",
       "    </tr>\n",
       "    <tr>\n",
       "      <th>1</th>\n",
       "      <td>Wisconsin is Òclearly seeing a decline in COVI...</td>\n",
       "      <td>1</td>\n",
       "    </tr>\n",
       "    <tr>\n",
       "      <th>2</th>\n",
       "      <td>Facebook posts claim a child who is infected w...</td>\n",
       "      <td>1</td>\n",
       "    </tr>\n",
       "    <tr>\n",
       "      <th>3</th>\n",
       "      <td>IndiaÕs Ministry of Home Affairs banning citiz...</td>\n",
       "      <td>1</td>\n",
       "    </tr>\n",
       "    <tr>\n",
       "      <th>4</th>\n",
       "      <td>42 Democratic senators, plus two Independents,...</td>\n",
       "      <td>1</td>\n",
       "    </tr>\n",
       "  </tbody>\n",
       "</table>\n",
       "</div>"
      ],
      "text/plain": [
       "                                                text  target\n",
       "0  Facebook posts shared in at least three countr...       1\n",
       "1  Wisconsin is Òclearly seeing a decline in COVI...       1\n",
       "2  Facebook posts claim a child who is infected w...       1\n",
       "3  IndiaÕs Ministry of Home Affairs banning citiz...       1\n",
       "4  42 Democratic senators, plus two Independents,...       1"
      ]
     },
     "execution_count": 5,
     "metadata": {},
     "output_type": "execute_result"
    }
   ],
   "source": [
    "t_train.head()"
   ]
  },
  {
   "cell_type": "markdown",
   "id": "ef1ad0ab-d73d-4015-af6a-df5ef2f55710",
   "metadata": {},
   "source": [
    "# Cleaning and Preparing the data"
   ]
  },
  {
   "cell_type": "code",
   "execution_count": 6,
   "id": "5df1fc67-af74-4867-96c2-ada91be36f2a",
   "metadata": {
    "tags": []
   },
   "outputs": [],
   "source": [
    "def load_dict_contractions(): \n",
    "    return {\n",
    "        \"ain't\":\"is not\",\n",
    "        \"amn't\":\"am not\",\n",
    "        \"aren't\":\"are not\",\n",
    "        \"can't\":\"cannot\",\n",
    "        \"'cause\":\"because\",\n",
    "        \"couldn't\":\"could not\",\n",
    "        \"couldn't've\":\"could not have\",\n",
    "        \"could've\":\"could have\",\n",
    "        \"daren't\":\"dare not\",\n",
    "        \"daresn't\":\"dare not\",\n",
    "        \"dasn't\":\"dare not\",\n",
    "        \"didn't\":\"did not\",\n",
    "        \"doesn't\":\"does not\",\n",
    "        \"don't\":\"do not\",\n",
    "        \"e'er\":\"ever\",\n",
    "        \"em\":\"them\",\n",
    "        \"everyone's\":\"everyone is\",\n",
    "        \"finna\":\"fixing to\",\n",
    "        \"gimme\":\"give me\",\n",
    "        \"gonna\":\"going to\",\n",
    "        \"gon't\":\"go not\",\n",
    "        \"gotta\":\"got to\",\n",
    "        \"hadn't\":\"had not\",\n",
    "        \"hasn't\":\"has not\",\n",
    "        \"haven't\":\"have not\",\n",
    "        \"he'd\":\"he would\",\n",
    "        \"he'll\":\"he will\",\n",
    "        \"he's\":\"he is\",\n",
    "        \"he've\":\"he have\",\n",
    "        \"how'd\":\"how would\",\n",
    "        \"how'll\":\"how will\",\n",
    "        \"how're\":\"how are\",\n",
    "        \"how's\":\"how is\",\n",
    "        \"I'd\":\"I would\",\n",
    "        \"I'll\":\"I will\",\n",
    "        \"I'm\":\"I am\",\n",
    "        \"I'm'a\":\"I am about to\",\n",
    "        \"I'm'o\":\"I am going to\",\n",
    "        \"isn't\":\"is not\",\n",
    "        \"it'd\":\"it would\",\n",
    "        \"it'll\":\"it will\",\n",
    "        \"it's\":\"it is\",\n",
    "        \"I've\":\"I have\",\n",
    "        \"kinda\":\"kind of\",\n",
    "        \"let's\":\"let us\",\n",
    "        \"mayn't\":\"may not\",\n",
    "        \"may've\":\"may have\",\n",
    "        \"mightn't\":\"might not\",\n",
    "        \"might've\":\"might have\",\n",
    "        \"mustn't\":\"must not\",\n",
    "        \"mustn't've\":\"must not have\",\n",
    "        \"must've\":\"must have\",\n",
    "        \"needn't\":\"need not\",\n",
    "        \"ne'er\":\"never\",\n",
    "        \"o'\":\"of\",\n",
    "        \"o'er\":\"over\",\n",
    "        \"ol'\":\"old\",\n",
    "        \"oughtn't\":\"ought not\",\n",
    "        \"shalln't\":\"shall not\",\n",
    "        \"shan't\":\"shall not\",\n",
    "        \"she'd\":\"she would\",\n",
    "        \"she'll\":\"she will\",\n",
    "        \"she's\":\"she is\",\n",
    "        \"shouldn't\":\"should not\",\n",
    "        \"shouldn't've\":\"should not have\",\n",
    "        \"should've\":\"should have\",\n",
    "        \"somebody's\":\"somebody is\",\n",
    "        \"someone's\":\"someone is\",\n",
    "        \"something's\":\"something is\",\n",
    "        \"that'd\":\"that would\",\n",
    "        \"that'll\":\"that will\",\n",
    "        \"that're\":\"that are\",\n",
    "        \"that's\":\"that is\",\n",
    "        \"there'd\":\"there would\",\n",
    "        \"there'll\":\"there will\",\n",
    "        \"there're\":\"there are\",\n",
    "        \"there's\":\"there is\",\n",
    "        \"these're\":\"these are\",\n",
    "        \"they'd\":\"they would\",\n",
    "        \"they'll\":\"they will\",\n",
    "        \"they're\":\"they are\",\n",
    "        \"they've\":\"they have\",\n",
    "        \"this's\":\"this is\",\n",
    "        \"those're\":\"those are\",\n",
    "        \"'tis\":\"it is\",\n",
    "        \"'twas\":\"it was\",\n",
    "        \"wanna\":\"want to\",\n",
    "        \"wasn't\":\"was not\",\n",
    "        \"we'd\":\"we would\",\n",
    "        \"we'd've\":\"we would have\",\n",
    "        \"we'll\":\"we will\",\n",
    "        \"we're\":\"we are\",\n",
    "        \"weren't\":\"were not\",\n",
    "        \"we've\":\"we have\",\n",
    "        \"what'd\":\"what did\",\n",
    "        \"what'll\":\"what will\",\n",
    "        \"what're\":\"what are\",\n",
    "        \"what's\":\"what is\",\n",
    "        \"what've\":\"what have\",\n",
    "        \"when's\":\"when is\",\n",
    "        \"where'd\":\"where did\",\n",
    "        \"where're\":\"where are\",\n",
    "        \"where's\":\"where is\",\n",
    "        \"where've\":\"where have\",\n",
    "        \"which's\":\"which is\",\n",
    "        \"who'd\":\"who would\",\n",
    "        \"who'd've\":\"who would have\",\n",
    "        \"who'll\":\"who will\",\n",
    "        \"who're\":\"who are\",\n",
    "        \"who's\":\"who is\",\n",
    "        \"who've\":\"who have\",\n",
    "        \"why'd\":\"why did\",\n",
    "        \"why're\":\"why are\",\n",
    "        \"why's\":\"why is\",\n",
    "        \"won't\":\"will not\",\n",
    "        \"wouldn't\":\"would not\",\n",
    "        \"would've\":\"would have\",\n",
    "        \"y'all\":\"you all\",\n",
    "        \"you'd\":\"you would\",\n",
    "        \"you'll\":\"you will\",\n",
    "        \"you're\":\"you are\",\n",
    "        \"you've\":\"you have\",\n",
    "        \"Whatcha\":\"What are you\",\n",
    "        \"luv\":\"love\",\n",
    "        \"sux\":\"sucks\"\n",
    "        }\n",
    "\n",
    "def remove_contractions(tweet):\n",
    "  contractions = load_dict_contractions()\n",
    "  return contractions[tweet.lower()] if tweet.lower() in contractions.keys() else tweet\n",
    "\n",
    "def clean_text(tweet):\n",
    "    # Remove hashtags (keeping hashtag text)\n",
    "    tweet = re.sub(r'#','', tweet)\n",
    "    # HTML \n",
    "    tweet = re.sub(r'\\&\\w*;', '', tweet)\n",
    "    # Remove tickers\n",
    "    tweet = re.sub(r'\\$\\w*', '', tweet)\n",
    "    # Remove hyperlinks\n",
    "    tweet = re.sub(r'https?:\\/\\/.*\\/\\w*', '', tweet)\n",
    "    # Remove whitespaces\n",
    "    tweet = re.sub(r'\\s\\s+','', tweet)\n",
    "    tweet = re.sub(r'[ ]{2, }',' ',tweet)\n",
    "    # Remove URLs, RTs and mentions(@)\n",
    "    tweet=  re.sub(r'http(\\S)+', '',tweet)\n",
    "    tweet=  re.sub(r'http ...', '',tweet)\n",
    "    tweet=  re.sub(r'(RT|rt)[ ]*@[ ]*[\\S]+','',tweet)\n",
    "    tweet=  re.sub(r'RT[ ]?@','',tweet)\n",
    "    tweet = re.sub(r'@[\\S]+','',tweet)\n",
    "    # Remove words with 4 or fewer characters\n",
    "    tweet = re.sub(r'\\b\\w{1,4}\\b', '', tweet)\n",
    "    # Special characteres: &, <, >\n",
    "    tweet = re.sub(r'&amp;?', 'and',tweet)\n",
    "    tweet = re.sub(r'&lt;','<',tweet)\n",
    "    tweet = re.sub(r'&gt;','>',tweet)\n",
    "    # Remove characters beyond Basic Multilingual Plane (BMP) of Unicode:\n",
    "    tweet= ''.join(c for c in tweet if c <= '\\uFFFF') \n",
    "    tweet = tweet.strip()\n",
    "    # Remove misspelling words\n",
    "    tweet = ''.join(''.join(s)[:2] for _, s in itertools.groupby(tweet))\n",
    "    # Remove emoji\n",
    "    tweet = emoji.demojize(tweet)\n",
    "    tweet = tweet.replace(\":\",\" \")\n",
    "    tweet = ' '.join(tweet.split()) \n",
    "    tweet = re.sub(\"([^\\x00-\\x7F])+\",\" \",tweet)\n",
    "    # Remove mojibake (also extra spaces)\n",
    "    tweet = ' '.join(re.sub(\"[^\\u4e00-\\u9fa5\\u0030-\\u0039\\u0041-\\u005a\\u0061-\\u007a]\", \" \", tweet).split())\n",
    "    return tweet"
   ]
  },
  {
   "cell_type": "code",
   "execution_count": 7,
   "id": "e19353aa-664a-4748-afbd-b6002113e69a",
   "metadata": {},
   "outputs": [],
   "source": [
    "t_train[\"text\"] = t_train[\"text\"].apply(remove_contractions)\n",
    "t_train[\"text\"] = t_train[\"text\"].apply(clean_text)\n",
    "t_train.drop_duplicates(subset=[\"text\"], inplace=True)\n",
    "t_train.dropna(inplace=True)"
   ]
  },
  {
   "cell_type": "markdown",
   "id": "5f036600-e06c-4b1d-b967-39d8e020c4f0",
   "metadata": {},
   "source": [
    "# Training and Evaluation"
   ]
  },
  {
   "cell_type": "code",
   "execution_count": 8,
   "id": "d2f14b87-beb0-407c-a175-d9995c637f32",
   "metadata": {},
   "outputs": [],
   "source": [
    "X_train, X_test, y_train, y_test = train_test_split(t_train['text'], t_train['target'], test_size=0.2, random_state=1)\n",
    "X_train, X_val, y_train, y_val = train_test_split(X_train, y_train, test_size=0.20, random_state=1) # 0.25 x 0.8 = 0.2\n",
    "train_df = pd.concat([X_train, y_train], axis=1)\n",
    "val_df = pd.concat([X_val, y_val], axis=1)\n",
    "test_df = pd.concat([X_test, y_test], axis=1)"
   ]
  },
  {
   "cell_type": "markdown",
   "id": "0e650323-3877-46f8-b9bd-877cfe1d3397",
   "metadata": {},
   "source": [
    "## Jaimemv"
   ]
  },
  {
   "cell_type": "code",
   "execution_count": 9,
   "id": "36e48438-2d1f-43ab-b3ba-cd458ee154ba",
   "metadata": {},
   "outputs": [],
   "source": [
    "train_args = {\n",
    "    'evaluate_during_training': True,\n",
    "    'logging_steps': 100,\n",
    "    'num_train_epochs': 5,\n",
    "    'evaluate_during_training_steps': 100,\n",
    "    'save_eval_checkpoints': False,\n",
    "    'train_batch_size': 32,\n",
    "    'eval_batch_size': 64,\n",
    "    'overwrite_output_dir': True,\n",
    "    'fp16': False,\n",
    "    'wandb_project': \"covid\"\n",
    "}"
   ]
  },
  {
   "cell_type": "markdown",
   "id": "18ad402d-543d-40da-8223-f20cf72242ef",
   "metadata": {},
   "source": [
    "API Key = 1368ef9ecb109eea86444b12d3a6465b8f46dd9b"
   ]
  },
  {
   "cell_type": "code",
   "execution_count": 10,
   "id": "c2ebc1c2-7331-4acc-bbcb-48c5218f048c",
   "metadata": {},
   "outputs": [],
   "source": [
    "#wget.download(\"https://storage.googleapis.com/bert_models/2018_10_18/uncased_L-12_H-768_A-12.zip\", out = '..\\\\raw\\\\uncased_L-12_H-768_A-12.zip')"
   ]
  },
  {
   "cell_type": "code",
   "execution_count": null,
   "id": "00ccd650-f993-4b01-8206-45e580c7ce63",
   "metadata": {},
   "outputs": [],
   "source": []
  },
  {
   "cell_type": "code",
   "execution_count": null,
   "id": "805d9b31-4513-4d19-961b-7dff0047a033",
   "metadata": {},
   "outputs": [],
   "source": []
  },
  {
   "cell_type": "code",
   "execution_count": null,
   "id": "c5c963b0-1036-4bc4-a295-73531414141d",
   "metadata": {},
   "outputs": [],
   "source": []
  },
  {
   "cell_type": "code",
   "execution_count": null,
   "id": "377fb7a4-5148-446d-a5bb-122c60340eda",
   "metadata": {},
   "outputs": [],
   "source": []
  },
  {
   "cell_type": "code",
   "execution_count": null,
   "id": "a1a7380c-a34c-43b9-8ecd-7e780c1511d7",
   "metadata": {},
   "outputs": [],
   "source": []
  },
  {
   "cell_type": "markdown",
   "id": "00f774fa-aa7d-444c-8af3-d0cf438b6074",
   "metadata": {},
   "source": [
    "## Bert"
   ]
  },
  {
   "cell_type": "code",
   "execution_count": 11,
   "id": "24cd00fc-43f9-462b-9e15-65221e34adc3",
   "metadata": {},
   "outputs": [
    {
     "name": "stderr",
     "output_type": "stream",
     "text": [
      "Some weights of the model checkpoint at bert-base-cased were not used when initializing BertForSequenceClassification: ['cls.predictions.transform.LayerNorm.weight', 'cls.predictions.decoder.weight', 'cls.seq_relationship.bias', 'cls.predictions.transform.dense.bias', 'cls.seq_relationship.weight', 'cls.predictions.transform.LayerNorm.bias', 'cls.predictions.transform.dense.weight', 'cls.predictions.bias']\n",
      "- This IS expected if you are initializing BertForSequenceClassification from the checkpoint of a model trained on another task or with another architecture (e.g. initializing a BertForSequenceClassification model from a BertForPreTraining model).\n",
      "- This IS NOT expected if you are initializing BertForSequenceClassification from the checkpoint of a model that you expect to be exactly identical (initializing a BertForSequenceClassification model from a BertForSequenceClassification model).\n",
      "Some weights of BertForSequenceClassification were not initialized from the model checkpoint at bert-base-cased and are newly initialized: ['classifier.weight', 'classifier.bias']\n",
      "You should probably TRAIN this model on a down-stream task to be able to use it for predictions and inference.\n"
     ]
    }
   ],
   "source": [
    "model_BERT = ClassificationModel('bert', 'bert-base-cased', num_labels=2, use_cuda=True, cuda_device=0, args=train_args)"
   ]
  },
  {
   "cell_type": "code",
   "execution_count": null,
   "id": "f4bc92c6-cef3-4eb6-8670-dc588c8b7519",
   "metadata": {},
   "outputs": [
    {
     "name": "stderr",
     "output_type": "stream",
     "text": [
      "C:\\Users\\shahzehan\\anaconda3\\envs\\bitch\\lib\\site-packages\\simpletransformers\\classification\\classification_model.py:586: UserWarning: Dataframe headers not specified. Falling back to using column 0 as text and column 1 as labels.\n",
      "  \"Dataframe headers not specified. Falling back to using column 0 as text and column 1 as labels.\"\n"
     ]
    },
    {
     "data": {
      "application/vnd.jupyter.widget-view+json": {
       "model_id": "9c0f2b1239e445a4bdc68d282713d315",
       "version_major": 2,
       "version_minor": 0
      },
      "text/plain": [
       "  0%|          | 0/8019 [00:00<?, ?it/s]"
      ]
     },
     "metadata": {},
     "output_type": "display_data"
    }
   ],
   "source": [
    "model_BERT.train_model(train_df, eval_df=val_df)"
   ]
  },
  {
   "cell_type": "code",
   "execution_count": null,
   "id": "50db2381-ad5d-4b8c-88df-59b7b1ba204a",
   "metadata": {},
   "outputs": [],
   "source": [
    "result, model_outputs, wrong_predictions = model_BERT.eval_model(val_df, acc=sklearn.metrics.accuracy_score)"
   ]
  },
  {
   "cell_type": "markdown",
   "id": "3c5bc48f-4248-48de-af3e-1b37b8de78d1",
   "metadata": {},
   "source": [
    "## Roberta"
   ]
  },
  {
   "cell_type": "code",
   "execution_count": null,
   "id": "54f302af-5743-4a1f-9d1f-57e5b3b0a531",
   "metadata": {},
   "outputs": [],
   "source": [
    "model_Roberta = ClassificationModel('roberta', 'roberta-base', num_labels=2, use_cuda=True, cuda_device=0, args=train_args)"
   ]
  },
  {
   "cell_type": "code",
   "execution_count": null,
   "id": "c9819b4c-35ec-47ac-9008-c239f1ee45c6",
   "metadata": {},
   "outputs": [],
   "source": [
    "model_Roberta.train_model(train_df, eval_df=val_df)"
   ]
  },
  {
   "cell_type": "code",
   "execution_count": null,
   "id": "9be2bb13-7304-4e4b-9745-dbee3e4cd61e",
   "metadata": {},
   "outputs": [],
   "source": [
    "result, model_outputs, wrong_predictions = model_Roberta.eval_model(val_df, acc=sklearn.metrics.accuracy_score)"
   ]
  },
  {
   "cell_type": "markdown",
   "id": "56a904a0-3d25-4f73-bc41-207e8d47ceaf",
   "metadata": {},
   "source": [
    "## Albert"
   ]
  },
  {
   "cell_type": "code",
   "execution_count": null,
   "id": "f5014286-887a-453e-b12c-08aa913f1f60",
   "metadata": {},
   "outputs": [],
   "source": [
    "model_Albert = ClassificationModel('albert', 'albert-base-v2', num_labels=2, use_cuda=True, cuda_device=0, args=train_args)"
   ]
  },
  {
   "cell_type": "code",
   "execution_count": null,
   "id": "790d09f2-daed-4c7b-bf59-c94a5edf9caa",
   "metadata": {},
   "outputs": [],
   "source": [
    "model_Albert.train_model(train_df, eval_df=val_df)"
   ]
  },
  {
   "cell_type": "code",
   "execution_count": null,
   "id": "1f418f8a-a237-4fb9-a7da-58a9c8265112",
   "metadata": {},
   "outputs": [],
   "source": [
    "result, model_outputs, wrong_predictions = model_Albert.eval_model(val_df, acc=sklearn.metrics.accuracy_score)"
   ]
  },
  {
   "cell_type": "code",
   "execution_count": null,
   "id": "aa198481-47eb-41ea-b5c6-3ffb769a61cc",
   "metadata": {},
   "outputs": [],
   "source": []
  },
  {
   "cell_type": "code",
   "execution_count": null,
   "id": "e1adffd8-d65a-4244-9407-56525e033fb0",
   "metadata": {},
   "outputs": [],
   "source": []
  },
  {
   "cell_type": "code",
   "execution_count": null,
   "id": "217fa1cf-1157-48f7-b88f-8a521e32f7e2",
   "metadata": {},
   "outputs": [],
   "source": []
  },
  {
   "cell_type": "code",
   "execution_count": null,
   "id": "f72984c1-e105-4b20-88ef-07cd22a8d6b0",
   "metadata": {},
   "outputs": [],
   "source": []
  },
  {
   "cell_type": "code",
   "execution_count": null,
   "id": "a54512eb-660d-44d5-8012-dc10072a2162",
   "metadata": {},
   "outputs": [],
   "source": []
  },
  {
   "cell_type": "code",
   "execution_count": null,
   "id": "7adec559-a817-4794-bb84-c85027e7eea3",
   "metadata": {},
   "outputs": [],
   "source": []
  },
  {
   "cell_type": "code",
   "execution_count": null,
   "id": "efe806f2-0dca-4573-9787-7272c2c080b5",
   "metadata": {},
   "outputs": [],
   "source": []
  }
 ],
 "metadata": {
  "kernelspec": {
   "display_name": "Python 3 (ipykernel)",
   "language": "python",
   "name": "python3"
  },
  "language_info": {
   "codemirror_mode": {
    "name": "ipython",
    "version": 3
   },
   "file_extension": ".py",
   "mimetype": "text/x-python",
   "name": "python",
   "nbconvert_exporter": "python",
   "pygments_lexer": "ipython3",
   "version": "3.9.9"
  }
 },
 "nbformat": 4,
 "nbformat_minor": 5
}
