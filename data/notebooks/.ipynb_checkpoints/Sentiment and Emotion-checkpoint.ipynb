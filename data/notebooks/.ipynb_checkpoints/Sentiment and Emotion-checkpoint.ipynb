{
 "cells": [
  {
   "cell_type": "code",
   "execution_count": 51,
   "id": "de9015e0-666b-4c21-938c-430fe03bcf26",
   "metadata": {},
   "outputs": [],
   "source": [
    "import pandas as pd\n",
    "import numpy as np\n",
    "from sklearn.model_selection import train_test_split\n",
    "import sklearn\n",
    "import os\n",
    "from pysentimiento import create_analyzer\n",
    "from matplotlib import pyplot as plt"
   ]
  },
  {
   "cell_type": "code",
   "execution_count": 3,
   "id": "9378d3c0-3bdc-40be-a428-e4807551e006",
   "metadata": {},
   "outputs": [
    {
     "name": "stderr",
     "output_type": "stream",
     "text": [
      "loading configuration file https://huggingface.co/finiteautomata/bertweet-base-sentiment-analysis/resolve/main/config.json from cache at C:\\Users\\shahzehan/.cache\\huggingface\\transformers\\cb09766f7ba60b5f7a1bb640617b24f1499c4a6f3ab160c4a0ac171e3a377c68.008dca06003188334001a96363da79ced4944abc68d94a2f1e0db786dc5aa08b\n",
      "Model config RobertaConfig {\n",
      "  \"_name_or_path\": \"finiteautomata/bertweet-base-sentiment-analysis\",\n",
      "  \"architectures\": [\n",
      "    \"RobertaForSequenceClassification\"\n",
      "  ],\n",
      "  \"attention_probs_dropout_prob\": 0.1,\n",
      "  \"bos_token_id\": 0,\n",
      "  \"classifier_dropout\": null,\n",
      "  \"eos_token_id\": 2,\n",
      "  \"gradient_checkpointing\": false,\n",
      "  \"hidden_act\": \"gelu\",\n",
      "  \"hidden_dropout_prob\": 0.1,\n",
      "  \"hidden_size\": 768,\n",
      "  \"id2label\": {\n",
      "    \"0\": \"NEG\",\n",
      "    \"1\": \"NEU\",\n",
      "    \"2\": \"POS\"\n",
      "  },\n",
      "  \"initializer_range\": 0.02,\n",
      "  \"intermediate_size\": 3072,\n",
      "  \"label2id\": {\n",
      "    \"NEG\": 0,\n",
      "    \"NEU\": 1,\n",
      "    \"POS\": 2\n",
      "  },\n",
      "  \"layer_norm_eps\": 1e-05,\n",
      "  \"max_position_embeddings\": 130,\n",
      "  \"model_type\": \"roberta\",\n",
      "  \"num_attention_heads\": 12,\n",
      "  \"num_hidden_layers\": 12,\n",
      "  \"pad_token_id\": 1,\n",
      "  \"position_embedding_type\": \"absolute\",\n",
      "  \"problem_type\": \"single_label_classification\",\n",
      "  \"tokenizer_class\": \"BertweetTokenizer\",\n",
      "  \"transformers_version\": \"4.17.0\",\n",
      "  \"type_vocab_size\": 1,\n",
      "  \"use_cache\": true,\n",
      "  \"vocab_size\": 64001\n",
      "}\n",
      "\n",
      "loading file https://huggingface.co/finiteautomata/bertweet-base-sentiment-analysis/resolve/main/vocab.txt from cache at C:\\Users\\shahzehan/.cache\\huggingface\\transformers\\973dbacfdf4c488622f01d1a226089e9e3dba130a0c3c11c2e36d49466fa40a8.f8a4dfe5c3c45a26f9df849d732decb191dc0c05ab270799695430332d143982\n",
      "loading file https://huggingface.co/finiteautomata/bertweet-base-sentiment-analysis/resolve/main/bpe.codes from cache at C:\\Users\\shahzehan/.cache\\huggingface\\transformers\\0e474c44ff353f3b378fb140e7e6d4431df4ec6142e8b38d584c0dbc5afc3521.75877d86011e5d5d46614d3a21757b705e9d20ed45a019805d25159b4837b0a4\n",
      "loading file https://huggingface.co/finiteautomata/bertweet-base-sentiment-analysis/resolve/main/added_tokens.json from cache at C:\\Users\\shahzehan/.cache\\huggingface\\transformers\\fe46927817477a58ec2aa92ef52f8ee6fc9e824d054f4aa6a3c129724dc9c9b7.c1e7052e39d2135302ec27455f6db22e1520e6539942ff60a849c7f83f8ec6dc\n",
      "loading file https://huggingface.co/finiteautomata/bertweet-base-sentiment-analysis/resolve/main/special_tokens_map.json from cache at C:\\Users\\shahzehan/.cache\\huggingface\\transformers\\9413ac0bed76140860deffa0c5a29ee4da7d49a3810da1b4b51b27f790bc9255.0dc5b1041f62041ebbd23b1297f2f573769d5c97d8b7c28180ec86b8f6185aa8\n",
      "loading file https://huggingface.co/finiteautomata/bertweet-base-sentiment-analysis/resolve/main/tokenizer_config.json from cache at C:\\Users\\shahzehan/.cache\\huggingface\\transformers\\61374b71c02fdfd2929a3cdce24c242049e036624e15e18461a3a70cfc35e939.c260b44e952f7f2a825aac395f2ebbed4ac9553800d1e320af246e81a548f37c\n",
      "loading configuration file https://huggingface.co/finiteautomata/bertweet-base-sentiment-analysis/resolve/main/config.json from cache at C:\\Users\\shahzehan/.cache\\huggingface\\transformers\\cb09766f7ba60b5f7a1bb640617b24f1499c4a6f3ab160c4a0ac171e3a377c68.008dca06003188334001a96363da79ced4944abc68d94a2f1e0db786dc5aa08b\n",
      "Model config RobertaConfig {\n",
      "  \"_name_or_path\": \"finiteautomata/bertweet-base-sentiment-analysis\",\n",
      "  \"architectures\": [\n",
      "    \"RobertaForSequenceClassification\"\n",
      "  ],\n",
      "  \"attention_probs_dropout_prob\": 0.1,\n",
      "  \"bos_token_id\": 0,\n",
      "  \"classifier_dropout\": null,\n",
      "  \"eos_token_id\": 2,\n",
      "  \"gradient_checkpointing\": false,\n",
      "  \"hidden_act\": \"gelu\",\n",
      "  \"hidden_dropout_prob\": 0.1,\n",
      "  \"hidden_size\": 768,\n",
      "  \"id2label\": {\n",
      "    \"0\": \"NEG\",\n",
      "    \"1\": \"NEU\",\n",
      "    \"2\": \"POS\"\n",
      "  },\n",
      "  \"initializer_range\": 0.02,\n",
      "  \"intermediate_size\": 3072,\n",
      "  \"label2id\": {\n",
      "    \"NEG\": 0,\n",
      "    \"NEU\": 1,\n",
      "    \"POS\": 2\n",
      "  },\n",
      "  \"layer_norm_eps\": 1e-05,\n",
      "  \"max_position_embeddings\": 130,\n",
      "  \"model_type\": \"roberta\",\n",
      "  \"num_attention_heads\": 12,\n",
      "  \"num_hidden_layers\": 12,\n",
      "  \"pad_token_id\": 1,\n",
      "  \"position_embedding_type\": \"absolute\",\n",
      "  \"problem_type\": \"single_label_classification\",\n",
      "  \"tokenizer_class\": \"BertweetTokenizer\",\n",
      "  \"transformers_version\": \"4.17.0\",\n",
      "  \"type_vocab_size\": 1,\n",
      "  \"use_cache\": true,\n",
      "  \"vocab_size\": 64001\n",
      "}\n",
      "\n",
      "Adding <mask> to the vocabulary\n",
      "loading configuration file https://huggingface.co/finiteautomata/bertweet-base-sentiment-analysis/resolve/main/config.json from cache at C:\\Users\\shahzehan/.cache\\huggingface\\transformers\\cb09766f7ba60b5f7a1bb640617b24f1499c4a6f3ab160c4a0ac171e3a377c68.008dca06003188334001a96363da79ced4944abc68d94a2f1e0db786dc5aa08b\n",
      "Model config RobertaConfig {\n",
      "  \"_name_or_path\": \"finiteautomata/bertweet-base-sentiment-analysis\",\n",
      "  \"architectures\": [\n",
      "    \"RobertaForSequenceClassification\"\n",
      "  ],\n",
      "  \"attention_probs_dropout_prob\": 0.1,\n",
      "  \"bos_token_id\": 0,\n",
      "  \"classifier_dropout\": null,\n",
      "  \"eos_token_id\": 2,\n",
      "  \"gradient_checkpointing\": false,\n",
      "  \"hidden_act\": \"gelu\",\n",
      "  \"hidden_dropout_prob\": 0.1,\n",
      "  \"hidden_size\": 768,\n",
      "  \"id2label\": {\n",
      "    \"0\": \"NEG\",\n",
      "    \"1\": \"NEU\",\n",
      "    \"2\": \"POS\"\n",
      "  },\n",
      "  \"initializer_range\": 0.02,\n",
      "  \"intermediate_size\": 3072,\n",
      "  \"label2id\": {\n",
      "    \"NEG\": 0,\n",
      "    \"NEU\": 1,\n",
      "    \"POS\": 2\n",
      "  },\n",
      "  \"layer_norm_eps\": 1e-05,\n",
      "  \"max_position_embeddings\": 130,\n",
      "  \"model_type\": \"roberta\",\n",
      "  \"num_attention_heads\": 12,\n",
      "  \"num_hidden_layers\": 12,\n",
      "  \"pad_token_id\": 1,\n",
      "  \"position_embedding_type\": \"absolute\",\n",
      "  \"problem_type\": \"single_label_classification\",\n",
      "  \"tokenizer_class\": \"BertweetTokenizer\",\n",
      "  \"transformers_version\": \"4.17.0\",\n",
      "  \"type_vocab_size\": 1,\n",
      "  \"use_cache\": true,\n",
      "  \"vocab_size\": 64001\n",
      "}\n",
      "\n",
      "loading weights file https://huggingface.co/finiteautomata/bertweet-base-sentiment-analysis/resolve/main/pytorch_model.bin from cache at C:\\Users\\shahzehan/.cache\\huggingface\\transformers\\2e4719cf8d097772eb75070b88cbc56f1d3b1392fffc5f75032a389ef21d1847.16366ca1277caccb15200478349503b3336a1420ac26d44fc16763354f5a2cae\n",
      "All model checkpoint weights were used when initializing RobertaForSequenceClassification.\n",
      "\n",
      "All the weights of RobertaForSequenceClassification were initialized from the model checkpoint at finiteautomata/bertweet-base-sentiment-analysis.\n",
      "If your task is similar to the task the model of the checkpoint was trained on, you can already use RobertaForSequenceClassification for predictions without further training.\n",
      "PyTorch: setting up devices\n",
      "The default value for the training argument `--report_to` will change in v5 (from all installed integrations to none). In v5, you will need to use `--report_to all` to get the same behavior as now. You should start updating your code and make this info disappear :-).\n",
      "loading configuration file https://huggingface.co/finiteautomata/bertweet-base-emotion-analysis/resolve/main/config.json from cache at C:\\Users\\shahzehan/.cache\\huggingface\\transformers\\c246eed05359b1a49c45955b0265b488e35b0cbd2628e3ead7dd54c8815162ee.a2dff24b4e0a884c6d58a09968c5b68e7391e749eb698ad92541818d420fd01b\n",
      "Model config RobertaConfig {\n",
      "  \"_name_or_path\": \"finiteautomata/bertweet-base-emotion-analysis\",\n",
      "  \"architectures\": [\n",
      "    \"RobertaForSequenceClassification\"\n",
      "  ],\n",
      "  \"attention_probs_dropout_prob\": 0.1,\n",
      "  \"bos_token_id\": 0,\n",
      "  \"classifier_dropout\": null,\n",
      "  \"eos_token_id\": 2,\n",
      "  \"gradient_checkpointing\": false,\n",
      "  \"hidden_act\": \"gelu\",\n",
      "  \"hidden_dropout_prob\": 0.1,\n",
      "  \"hidden_size\": 768,\n",
      "  \"id2label\": {\n",
      "    \"0\": \"others\",\n",
      "    \"1\": \"joy\",\n",
      "    \"2\": \"sadness\",\n",
      "    \"3\": \"anger\",\n",
      "    \"4\": \"surprise\",\n",
      "    \"5\": \"disgust\",\n",
      "    \"6\": \"fear\"\n",
      "  },\n",
      "  \"initializer_range\": 0.02,\n",
      "  \"intermediate_size\": 3072,\n",
      "  \"label2id\": {\n",
      "    \"anger\": 3,\n",
      "    \"disgust\": 5,\n",
      "    \"fear\": 6,\n",
      "    \"joy\": 1,\n",
      "    \"others\": 0,\n",
      "    \"sadness\": 2,\n",
      "    \"surprise\": 4\n",
      "  },\n",
      "  \"layer_norm_eps\": 1e-05,\n",
      "  \"max_position_embeddings\": 130,\n",
      "  \"model_type\": \"roberta\",\n",
      "  \"num_attention_heads\": 12,\n",
      "  \"num_hidden_layers\": 12,\n",
      "  \"pad_token_id\": 1,\n",
      "  \"position_embedding_type\": \"absolute\",\n",
      "  \"tokenizer_class\": \"BertweetTokenizer\",\n",
      "  \"transformers_version\": \"4.17.0\",\n",
      "  \"type_vocab_size\": 1,\n",
      "  \"use_cache\": true,\n",
      "  \"vocab_size\": 64001\n",
      "}\n",
      "\n",
      "loading file https://huggingface.co/finiteautomata/bertweet-base-emotion-analysis/resolve/main/vocab.txt from cache at C:\\Users\\shahzehan/.cache\\huggingface\\transformers\\b7837213513a9f3852dcb04048f70c13cbd0590be030e534734ffd42cbdcf45a.f8a4dfe5c3c45a26f9df849d732decb191dc0c05ab270799695430332d143982\n",
      "loading file https://huggingface.co/finiteautomata/bertweet-base-emotion-analysis/resolve/main/bpe.codes from cache at C:\\Users\\shahzehan/.cache\\huggingface\\transformers\\76e357e2554ebe053d1c4c613506bc2cc19d66ae27fec8218261a7f73c6456b9.75877d86011e5d5d46614d3a21757b705e9d20ed45a019805d25159b4837b0a4\n",
      "loading file https://huggingface.co/finiteautomata/bertweet-base-emotion-analysis/resolve/main/added_tokens.json from cache at C:\\Users\\shahzehan/.cache\\huggingface\\transformers\\c4b7522f44ed8adb95e62288c6458da591654f7466e3ce2f9c730bb4087411d2.c1e7052e39d2135302ec27455f6db22e1520e6539942ff60a849c7f83f8ec6dc\n",
      "loading file https://huggingface.co/finiteautomata/bertweet-base-emotion-analysis/resolve/main/special_tokens_map.json from cache at C:\\Users\\shahzehan/.cache\\huggingface\\transformers\\01581144d9bf96cb9c7d8a77ee93c8b1f1095af5c1204b1b038a8cb0e3247aa8.0dc5b1041f62041ebbd23b1297f2f573769d5c97d8b7c28180ec86b8f6185aa8\n",
      "loading file https://huggingface.co/finiteautomata/bertweet-base-emotion-analysis/resolve/main/tokenizer_config.json from cache at C:\\Users\\shahzehan/.cache\\huggingface\\transformers\\1740697312c59fe96586f476c7765cd6f08516a6102ea96f22ffee64f7553234.c260b44e952f7f2a825aac395f2ebbed4ac9553800d1e320af246e81a548f37c\n",
      "loading configuration file https://huggingface.co/finiteautomata/bertweet-base-emotion-analysis/resolve/main/config.json from cache at C:\\Users\\shahzehan/.cache\\huggingface\\transformers\\c246eed05359b1a49c45955b0265b488e35b0cbd2628e3ead7dd54c8815162ee.a2dff24b4e0a884c6d58a09968c5b68e7391e749eb698ad92541818d420fd01b\n",
      "Model config RobertaConfig {\n",
      "  \"_name_or_path\": \"finiteautomata/bertweet-base-emotion-analysis\",\n",
      "  \"architectures\": [\n",
      "    \"RobertaForSequenceClassification\"\n",
      "  ],\n",
      "  \"attention_probs_dropout_prob\": 0.1,\n",
      "  \"bos_token_id\": 0,\n",
      "  \"classifier_dropout\": null,\n",
      "  \"eos_token_id\": 2,\n",
      "  \"gradient_checkpointing\": false,\n",
      "  \"hidden_act\": \"gelu\",\n",
      "  \"hidden_dropout_prob\": 0.1,\n",
      "  \"hidden_size\": 768,\n",
      "  \"id2label\": {\n",
      "    \"0\": \"others\",\n",
      "    \"1\": \"joy\",\n",
      "    \"2\": \"sadness\",\n",
      "    \"3\": \"anger\",\n",
      "    \"4\": \"surprise\",\n",
      "    \"5\": \"disgust\",\n",
      "    \"6\": \"fear\"\n",
      "  },\n",
      "  \"initializer_range\": 0.02,\n",
      "  \"intermediate_size\": 3072,\n",
      "  \"label2id\": {\n",
      "    \"anger\": 3,\n",
      "    \"disgust\": 5,\n",
      "    \"fear\": 6,\n",
      "    \"joy\": 1,\n",
      "    \"others\": 0,\n",
      "    \"sadness\": 2,\n",
      "    \"surprise\": 4\n",
      "  },\n",
      "  \"layer_norm_eps\": 1e-05,\n",
      "  \"max_position_embeddings\": 130,\n",
      "  \"model_type\": \"roberta\",\n",
      "  \"num_attention_heads\": 12,\n",
      "  \"num_hidden_layers\": 12,\n",
      "  \"pad_token_id\": 1,\n",
      "  \"position_embedding_type\": \"absolute\",\n",
      "  \"tokenizer_class\": \"BertweetTokenizer\",\n",
      "  \"transformers_version\": \"4.17.0\",\n",
      "  \"type_vocab_size\": 1,\n",
      "  \"use_cache\": true,\n",
      "  \"vocab_size\": 64001\n",
      "}\n",
      "\n",
      "Adding <mask> to the vocabulary\n",
      "loading configuration file https://huggingface.co/finiteautomata/bertweet-base-emotion-analysis/resolve/main/config.json from cache at C:\\Users\\shahzehan/.cache\\huggingface\\transformers\\c246eed05359b1a49c45955b0265b488e35b0cbd2628e3ead7dd54c8815162ee.a2dff24b4e0a884c6d58a09968c5b68e7391e749eb698ad92541818d420fd01b\n",
      "Model config RobertaConfig {\n",
      "  \"_name_or_path\": \"finiteautomata/bertweet-base-emotion-analysis\",\n",
      "  \"architectures\": [\n",
      "    \"RobertaForSequenceClassification\"\n",
      "  ],\n",
      "  \"attention_probs_dropout_prob\": 0.1,\n",
      "  \"bos_token_id\": 0,\n",
      "  \"classifier_dropout\": null,\n",
      "  \"eos_token_id\": 2,\n",
      "  \"gradient_checkpointing\": false,\n",
      "  \"hidden_act\": \"gelu\",\n",
      "  \"hidden_dropout_prob\": 0.1,\n",
      "  \"hidden_size\": 768,\n",
      "  \"id2label\": {\n",
      "    \"0\": \"others\",\n",
      "    \"1\": \"joy\",\n",
      "    \"2\": \"sadness\",\n",
      "    \"3\": \"anger\",\n",
      "    \"4\": \"surprise\",\n",
      "    \"5\": \"disgust\",\n",
      "    \"6\": \"fear\"\n",
      "  },\n",
      "  \"initializer_range\": 0.02,\n",
      "  \"intermediate_size\": 3072,\n",
      "  \"label2id\": {\n",
      "    \"anger\": 3,\n",
      "    \"disgust\": 5,\n",
      "    \"fear\": 6,\n",
      "    \"joy\": 1,\n",
      "    \"others\": 0,\n",
      "    \"sadness\": 2,\n",
      "    \"surprise\": 4\n",
      "  },\n",
      "  \"layer_norm_eps\": 1e-05,\n",
      "  \"max_position_embeddings\": 130,\n",
      "  \"model_type\": \"roberta\",\n",
      "  \"num_attention_heads\": 12,\n",
      "  \"num_hidden_layers\": 12,\n",
      "  \"pad_token_id\": 1,\n",
      "  \"position_embedding_type\": \"absolute\",\n",
      "  \"tokenizer_class\": \"BertweetTokenizer\",\n",
      "  \"transformers_version\": \"4.17.0\",\n",
      "  \"type_vocab_size\": 1,\n",
      "  \"use_cache\": true,\n",
      "  \"vocab_size\": 64001\n",
      "}\n",
      "\n",
      "loading weights file https://huggingface.co/finiteautomata/bertweet-base-emotion-analysis/resolve/main/pytorch_model.bin from cache at C:\\Users\\shahzehan/.cache\\huggingface\\transformers\\61c5894a0aca5ed63159e2ec6a5501db48124c1e6de287b82bc634334f031203.9c3c4c16d0dd174434d42471b9d4670734d982be506a06fc3111c12bee4380c7\n",
      "All model checkpoint weights were used when initializing RobertaForSequenceClassification.\n",
      "\n",
      "All the weights of RobertaForSequenceClassification were initialized from the model checkpoint at finiteautomata/bertweet-base-emotion-analysis.\n",
      "If your task is similar to the task the model of the checkpoint was trained on, you can already use RobertaForSequenceClassification for predictions without further training.\n",
      "PyTorch: setting up devices\n",
      "The default value for the training argument `--report_to` will change in v5 (from all installed integrations to none). In v5, you will need to use `--report_to all` to get the same behavior as now. You should start updating your code and make this info disappear :-).\n"
     ]
    }
   ],
   "source": [
    "sentiment_analyzer = create_analyzer(task=\"sentiment\", lang=\"en\")\n",
    "emotion_analyzer = create_analyzer(task=\"emotion\", lang=\"en\")"
   ]
  },
  {
   "cell_type": "code",
   "execution_count": 17,
   "id": "2769c1d7-94d9-4bb5-a484-f30a85f52dd7",
   "metadata": {},
   "outputs": [
    {
     "data": {
      "application/vnd.jupyter.widget-view+json": {
       "model_id": "19dfa98f99924784a2e1d4cdf0fe56f1",
       "version_major": 2,
       "version_minor": 0
      },
      "text/plain": [
       "  0%|          | 0/3247 [00:00<?, ?ba/s]"
      ]
     },
     "metadata": {},
     "output_type": "display_data"
    },
    {
     "name": "stderr",
     "output_type": "stream",
     "text": [
      "The following columns in the test set  don't have a corresponding argument in `RobertaForSequenceClassification.forward` and have been ignored: text. If text are not expected by `RobertaForSequenceClassification.forward`,  you can safely ignore this message.\n",
      "***** Running Prediction *****\n",
      "  Num examples = 103901\n",
      "  Batch size = 32\n"
     ]
    }
   ],
   "source": [
    "# Jan 2020\n",
    "jan20_df = pd.read_csv(\"..\\\\processed\\\\tweets\\\\Jan2020.csv\", names=('text', 'label', 'topic'))\n",
    "out_list = []\n",
    "output = sentiment_analyzer.predict(jan20_df['text'])\n"
   ]
  },
  {
   "cell_type": "code",
   "execution_count": 19,
   "id": "67ef602d-ade5-452b-ad7a-60e4bc053391",
   "metadata": {},
   "outputs": [],
   "source": [
    "jan20_sen = [output[i].output for i in range(len(output))]"
   ]
  },
  {
   "cell_type": "code",
   "execution_count": 21,
   "id": "edf6e75d-65c8-4846-abd8-0623cfdb450c",
   "metadata": {},
   "outputs": [
    {
     "data": {
      "text/plain": [
       "103901"
      ]
     },
     "execution_count": 21,
     "metadata": {},
     "output_type": "execute_result"
    }
   ],
   "source": [
    "len(jan20_sen)"
   ]
  },
  {
   "cell_type": "code",
   "execution_count": 22,
   "id": "db35cd2c-bff3-4413-b887-fc875fbb5f96",
   "metadata": {},
   "outputs": [
    {
     "data": {
      "application/vnd.jupyter.widget-view+json": {
       "model_id": "0bd6d6e0aafb43019bd0c550731ad784",
       "version_major": 2,
       "version_minor": 0
      },
      "text/plain": [
       "  0%|          | 0/3247 [00:00<?, ?ba/s]"
      ]
     },
     "metadata": {},
     "output_type": "display_data"
    },
    {
     "name": "stderr",
     "output_type": "stream",
     "text": [
      "The following columns in the test set  don't have a corresponding argument in `RobertaForSequenceClassification.forward` and have been ignored: text. If text are not expected by `RobertaForSequenceClassification.forward`,  you can safely ignore this message.\n",
      "***** Running Prediction *****\n",
      "  Num examples = 103901\n",
      "  Batch size = 32\n"
     ]
    },
    {
     "data": {
      "text/html": [
       "\n",
       "    <div>\n",
       "      \n",
       "      <progress value='30444' max='3247' style='width:300px; height:20px; vertical-align: middle;'></progress>\n",
       "      [3247/3247 75:53:21]\n",
       "    </div>\n",
       "    "
      ],
      "text/plain": [
       "<IPython.core.display.HTML object>"
      ]
     },
     "metadata": {},
     "output_type": "display_data"
    }
   ],
   "source": [
    "output = emotion_analyzer.predict(jan20_df['text'])\n",
    "jan20_emo = [output[i].output for i in range(len(output))]"
   ]
  },
  {
   "cell_type": "code",
   "execution_count": 24,
   "id": "da9e75cd-dd5c-4291-96fc-99c1d21f1f5f",
   "metadata": {},
   "outputs": [],
   "source": [
    "jan20_df['sentiment'] = jan20_sen\n",
    "jan20_df['emotion'] = jan20_emo"
   ]
  },
  {
   "cell_type": "code",
   "execution_count": 25,
   "id": "1c2a76c3-bfe9-4802-9ea8-9df0d504025e",
   "metadata": {},
   "outputs": [
    {
     "data": {
      "text/html": [
       "<div>\n",
       "<style scoped>\n",
       "    .dataframe tbody tr th:only-of-type {\n",
       "        vertical-align: middle;\n",
       "    }\n",
       "\n",
       "    .dataframe tbody tr th {\n",
       "        vertical-align: top;\n",
       "    }\n",
       "\n",
       "    .dataframe thead th {\n",
       "        text-align: right;\n",
       "    }\n",
       "</style>\n",
       "<table border=\"1\" class=\"dataframe\">\n",
       "  <thead>\n",
       "    <tr style=\"text-align: right;\">\n",
       "      <th></th>\n",
       "      <th>text</th>\n",
       "      <th>label</th>\n",
       "      <th>topic</th>\n",
       "      <th>sentiment</th>\n",
       "      <th>emotion</th>\n",
       "    </tr>\n",
       "  </thead>\n",
       "  <tbody>\n",
       "    <tr>\n",
       "      <th>0</th>\n",
       "      <td>Fast action will be key to containing new coro...</td>\n",
       "      <td>0</td>\n",
       "      <td>Masks</td>\n",
       "      <td>NEU</td>\n",
       "      <td>others</td>\n",
       "    </tr>\n",
       "    <tr>\n",
       "      <th>1</th>\n",
       "      <td>That CoronaVirus is about to turn into that Ri...</td>\n",
       "      <td>1</td>\n",
       "      <td>Quarantine</td>\n",
       "      <td>NEG</td>\n",
       "      <td>disgust</td>\n",
       "    </tr>\n",
       "    <tr>\n",
       "      <th>2</th>\n",
       "      <td>It be the ones who have the worst hygiene that...</td>\n",
       "      <td>1</td>\n",
       "      <td>Economy</td>\n",
       "      <td>NEG</td>\n",
       "      <td>disgust</td>\n",
       "    </tr>\n",
       "    <tr>\n",
       "      <th>3</th>\n",
       "      <td>This has been a day:\\n\\n• No new witnesses: ht...</td>\n",
       "      <td>1</td>\n",
       "      <td>Legislation</td>\n",
       "      <td>NEU</td>\n",
       "      <td>others</td>\n",
       "    </tr>\n",
       "    <tr>\n",
       "      <th>4</th>\n",
       "      <td>y’all @itslbern really thinks i have the coron...</td>\n",
       "      <td>1</td>\n",
       "      <td>Symptoms</td>\n",
       "      <td>NEG</td>\n",
       "      <td>fear</td>\n",
       "    </tr>\n",
       "  </tbody>\n",
       "</table>\n",
       "</div>"
      ],
      "text/plain": [
       "                                                text  label        topic  \\\n",
       "0  Fast action will be key to containing new coro...      0        Masks   \n",
       "1  That CoronaVirus is about to turn into that Ri...      1   Quarantine   \n",
       "2  It be the ones who have the worst hygiene that...      1      Economy   \n",
       "3  This has been a day:\\n\\n• No new witnesses: ht...      1  Legislation   \n",
       "4  y’all @itslbern really thinks i have the coron...      1     Symptoms   \n",
       "\n",
       "  sentiment  emotion  \n",
       "0       NEU   others  \n",
       "1       NEG  disgust  \n",
       "2       NEG  disgust  \n",
       "3       NEU   others  \n",
       "4       NEG     fear  "
      ]
     },
     "execution_count": 25,
     "metadata": {},
     "output_type": "execute_result"
    }
   ],
   "source": [
    "jan20_df.head()"
   ]
  },
  {
   "cell_type": "code",
   "execution_count": 26,
   "id": "b18fa885-00bb-448f-91f7-484c47745bd3",
   "metadata": {},
   "outputs": [],
   "source": [
    "jan20_df.to_csv('..\\\\processed\\\\tweets\\\\Jan2020.csv', index = False, header = False)"
   ]
  },
  {
   "cell_type": "code",
   "execution_count": 27,
   "id": "5a72a4c1-16d9-40e2-9e73-455d602212c2",
   "metadata": {},
   "outputs": [
    {
     "data": {
      "application/vnd.jupyter.widget-view+json": {
       "model_id": "ce62430044a9465cb9655d002a753ba8",
       "version_major": 2,
       "version_minor": 0
      },
      "text/plain": [
       "  0%|          | 0/3566 [00:00<?, ?ba/s]"
      ]
     },
     "metadata": {},
     "output_type": "display_data"
    },
    {
     "name": "stderr",
     "output_type": "stream",
     "text": [
      "The following columns in the test set  don't have a corresponding argument in `RobertaForSequenceClassification.forward` and have been ignored: text. If text are not expected by `RobertaForSequenceClassification.forward`,  you can safely ignore this message.\n",
      "***** Running Prediction *****\n",
      "  Num examples = 114086\n",
      "  Batch size = 32\n"
     ]
    },
    {
     "data": {
      "application/vnd.jupyter.widget-view+json": {
       "model_id": "747b826723bc4510997c44a567d78f1a",
       "version_major": 2,
       "version_minor": 0
      },
      "text/plain": [
       "  0%|          | 0/3566 [00:00<?, ?ba/s]"
      ]
     },
     "metadata": {},
     "output_type": "display_data"
    },
    {
     "name": "stderr",
     "output_type": "stream",
     "text": [
      "The following columns in the test set  don't have a corresponding argument in `RobertaForSequenceClassification.forward` and have been ignored: text. If text are not expected by `RobertaForSequenceClassification.forward`,  you can safely ignore this message.\n",
      "***** Running Prediction *****\n",
      "  Num examples = 114086\n",
      "  Batch size = 32\n"
     ]
    }
   ],
   "source": [
    "# Apr 2020\n",
    "df = pd.read_csv(\"..\\\\processed\\\\tweets\\\\Apr2020.csv\", names=('text', 'label', 'topic'))\n",
    "out1 = sentiment_analyzer.predict(df['text'])\n",
    "sen = [out1[i].output for i in range(len(out1))]\n",
    "out2 = emotion_analyzer.predict(df['text'])\n",
    "emo = [out2[i].output for i in range(len(out2))]\n",
    "df['sentiment'] = sen\n",
    "df['emotion'] = emo\n",
    "df.to_csv('..\\\\processed\\\\tweets\\\\Apr2020.csv', index = False, header = False)"
   ]
  },
  {
   "cell_type": "code",
   "execution_count": 28,
   "id": "77aee05b-ca45-4ad4-a193-0e1c892f59a8",
   "metadata": {},
   "outputs": [
    {
     "data": {
      "application/vnd.jupyter.widget-view+json": {
       "model_id": "2000a57e61704762900617e2c3c97600",
       "version_major": 2,
       "version_minor": 0
      },
      "text/plain": [
       "  0%|          | 0/3662 [00:00<?, ?ba/s]"
      ]
     },
     "metadata": {},
     "output_type": "display_data"
    },
    {
     "name": "stderr",
     "output_type": "stream",
     "text": [
      "The following columns in the test set  don't have a corresponding argument in `RobertaForSequenceClassification.forward` and have been ignored: text. If text are not expected by `RobertaForSequenceClassification.forward`,  you can safely ignore this message.\n",
      "***** Running Prediction *****\n",
      "  Num examples = 117173\n",
      "  Batch size = 32\n"
     ]
    },
    {
     "data": {
      "application/vnd.jupyter.widget-view+json": {
       "model_id": "b6dd6bbd49254ed0a682cb8285a1a0e9",
       "version_major": 2,
       "version_minor": 0
      },
      "text/plain": [
       "  0%|          | 0/3662 [00:00<?, ?ba/s]"
      ]
     },
     "metadata": {},
     "output_type": "display_data"
    },
    {
     "name": "stderr",
     "output_type": "stream",
     "text": [
      "The following columns in the test set  don't have a corresponding argument in `RobertaForSequenceClassification.forward` and have been ignored: text. If text are not expected by `RobertaForSequenceClassification.forward`,  you can safely ignore this message.\n",
      "***** Running Prediction *****\n",
      "  Num examples = 117173\n",
      "  Batch size = 32\n"
     ]
    }
   ],
   "source": [
    "# Jul 2020\n",
    "df = pd.read_csv(\"..\\\\processed\\\\tweets\\\\Jul2020.csv\", names=('text', 'label', 'topic'))\n",
    "out1 = sentiment_analyzer.predict(df['text'])\n",
    "sen = [out1[i].output for i in range(len(out1))]\n",
    "out2 = emotion_analyzer.predict(df['text'])\n",
    "emo = [out2[i].output for i in range(len(out2))]\n",
    "df['sentiment'] = sen\n",
    "df['emotion'] = emo\n",
    "df.to_csv('..\\\\processed\\\\tweets\\\\Jul2020.csv', index = False, header = False)"
   ]
  },
  {
   "cell_type": "code",
   "execution_count": 29,
   "id": "9d7edb96-13f8-42f4-83eb-db0e246642c4",
   "metadata": {},
   "outputs": [
    {
     "data": {
      "application/vnd.jupyter.widget-view+json": {
       "model_id": "d1b031e47afd4c8d8621e51b95d798e3",
       "version_major": 2,
       "version_minor": 0
      },
      "text/plain": [
       "  0%|          | 0/3696 [00:00<?, ?ba/s]"
      ]
     },
     "metadata": {},
     "output_type": "display_data"
    },
    {
     "name": "stderr",
     "output_type": "stream",
     "text": [
      "The following columns in the test set  don't have a corresponding argument in `RobertaForSequenceClassification.forward` and have been ignored: text. If text are not expected by `RobertaForSequenceClassification.forward`,  you can safely ignore this message.\n",
      "***** Running Prediction *****\n",
      "  Num examples = 118246\n",
      "  Batch size = 32\n"
     ]
    },
    {
     "data": {
      "application/vnd.jupyter.widget-view+json": {
       "model_id": "d12b0481287e4e2c9f0c6071ea387d77",
       "version_major": 2,
       "version_minor": 0
      },
      "text/plain": [
       "  0%|          | 0/3696 [00:00<?, ?ba/s]"
      ]
     },
     "metadata": {},
     "output_type": "display_data"
    },
    {
     "name": "stderr",
     "output_type": "stream",
     "text": [
      "The following columns in the test set  don't have a corresponding argument in `RobertaForSequenceClassification.forward` and have been ignored: text. If text are not expected by `RobertaForSequenceClassification.forward`,  you can safely ignore this message.\n",
      "***** Running Prediction *****\n",
      "  Num examples = 118246\n",
      "  Batch size = 32\n"
     ]
    }
   ],
   "source": [
    "# Oct 2020\n",
    "df = pd.read_csv(\"..\\\\processed\\\\tweets\\\\Oct2020.csv\", names=('text', 'label', 'topic'))\n",
    "out1 = sentiment_analyzer.predict(df['text'])\n",
    "sen = [out1[i].output for i in range(len(out1))]\n",
    "out2 = emotion_analyzer.predict(df['text'])\n",
    "emo = [out2[i].output for i in range(len(out2))]\n",
    "df['sentiment'] = sen\n",
    "df['emotion'] = emo\n",
    "df.to_csv('..\\\\processed\\\\tweets\\\\Oct2020.csv', index = False, header = False)"
   ]
  },
  {
   "cell_type": "code",
   "execution_count": 30,
   "id": "c719df36-8f5f-42ef-8ad8-5ec4beb8a455",
   "metadata": {},
   "outputs": [
    {
     "data": {
      "application/vnd.jupyter.widget-view+json": {
       "model_id": "b15e870461814889b101a5b2d5bf63e9",
       "version_major": 2,
       "version_minor": 0
      },
      "text/plain": [
       "  0%|          | 0/3922 [00:00<?, ?ba/s]"
      ]
     },
     "metadata": {},
     "output_type": "display_data"
    },
    {
     "name": "stderr",
     "output_type": "stream",
     "text": [
      "The following columns in the test set  don't have a corresponding argument in `RobertaForSequenceClassification.forward` and have been ignored: text. If text are not expected by `RobertaForSequenceClassification.forward`,  you can safely ignore this message.\n",
      "***** Running Prediction *****\n",
      "  Num examples = 125479\n",
      "  Batch size = 32\n"
     ]
    },
    {
     "data": {
      "application/vnd.jupyter.widget-view+json": {
       "model_id": "ac4b98154602410eb009fc1e10443cd8",
       "version_major": 2,
       "version_minor": 0
      },
      "text/plain": [
       "  0%|          | 0/3922 [00:00<?, ?ba/s]"
      ]
     },
     "metadata": {},
     "output_type": "display_data"
    },
    {
     "name": "stderr",
     "output_type": "stream",
     "text": [
      "The following columns in the test set  don't have a corresponding argument in `RobertaForSequenceClassification.forward` and have been ignored: text. If text are not expected by `RobertaForSequenceClassification.forward`,  you can safely ignore this message.\n",
      "***** Running Prediction *****\n",
      "  Num examples = 125479\n",
      "  Batch size = 32\n"
     ]
    }
   ],
   "source": [
    "# Jan 2021\n",
    "df = pd.read_csv(\"..\\\\processed\\\\tweets\\\\Jan2021.csv\", names=('text', 'label', 'topic'))\n",
    "out1 = sentiment_analyzer.predict(df['text'])\n",
    "sen = [out1[i].output for i in range(len(out1))]\n",
    "out2 = emotion_analyzer.predict(df['text'])\n",
    "emo = [out2[i].output for i in range(len(out2))]\n",
    "df['sentiment'] = sen\n",
    "df['emotion'] = emo\n",
    "df.to_csv('..\\\\processed\\\\tweets\\\\Jan2021.csv', index = False, header = False)"
   ]
  },
  {
   "cell_type": "code",
   "execution_count": 31,
   "id": "cf5025d5-fbbb-4c36-b8e5-7c879348851a",
   "metadata": {},
   "outputs": [
    {
     "data": {
      "application/vnd.jupyter.widget-view+json": {
       "model_id": "2b27cfd9996a4a2cb58a195458693f40",
       "version_major": 2,
       "version_minor": 0
      },
      "text/plain": [
       "  0%|          | 0/4030 [00:00<?, ?ba/s]"
      ]
     },
     "metadata": {},
     "output_type": "display_data"
    },
    {
     "name": "stderr",
     "output_type": "stream",
     "text": [
      "The following columns in the test set  don't have a corresponding argument in `RobertaForSequenceClassification.forward` and have been ignored: text. If text are not expected by `RobertaForSequenceClassification.forward`,  you can safely ignore this message.\n",
      "***** Running Prediction *****\n",
      "  Num examples = 128946\n",
      "  Batch size = 32\n"
     ]
    },
    {
     "data": {
      "application/vnd.jupyter.widget-view+json": {
       "model_id": "7187a7dae35d4a9cbab59c42eb79767d",
       "version_major": 2,
       "version_minor": 0
      },
      "text/plain": [
       "  0%|          | 0/4030 [00:00<?, ?ba/s]"
      ]
     },
     "metadata": {},
     "output_type": "display_data"
    },
    {
     "name": "stderr",
     "output_type": "stream",
     "text": [
      "The following columns in the test set  don't have a corresponding argument in `RobertaForSequenceClassification.forward` and have been ignored: text. If text are not expected by `RobertaForSequenceClassification.forward`,  you can safely ignore this message.\n",
      "***** Running Prediction *****\n",
      "  Num examples = 128946\n",
      "  Batch size = 32\n"
     ]
    }
   ],
   "source": [
    "# Apr 2021\n",
    "df = pd.read_csv(\"..\\\\processed\\\\tweets\\\\Apr2021.csv\", names=('text', 'label', 'topic'))\n",
    "out1 = sentiment_analyzer.predict(df['text'])\n",
    "sen = [out1[i].output for i in range(len(out1))]\n",
    "out2 = emotion_analyzer.predict(df['text'])\n",
    "emo = [out2[i].output for i in range(len(out2))]\n",
    "df['sentiment'] = sen\n",
    "df['emotion'] = emo\n",
    "df.to_csv('..\\\\processed\\\\tweets\\\\Apr2021.csv', index = False, header = False)"
   ]
  },
  {
   "cell_type": "code",
   "execution_count": 32,
   "id": "117a0be9-44a3-408d-9d69-020a58cbff3e",
   "metadata": {},
   "outputs": [
    {
     "data": {
      "application/vnd.jupyter.widget-view+json": {
       "model_id": "0a4b3b0e2ebb49e1a6f065853f7128fd",
       "version_major": 2,
       "version_minor": 0
      },
      "text/plain": [
       "  0%|          | 0/4014 [00:00<?, ?ba/s]"
      ]
     },
     "metadata": {},
     "output_type": "display_data"
    },
    {
     "name": "stderr",
     "output_type": "stream",
     "text": [
      "The following columns in the test set  don't have a corresponding argument in `RobertaForSequenceClassification.forward` and have been ignored: text. If text are not expected by `RobertaForSequenceClassification.forward`,  you can safely ignore this message.\n",
      "***** Running Prediction *****\n",
      "  Num examples = 128423\n",
      "  Batch size = 32\n"
     ]
    },
    {
     "data": {
      "application/vnd.jupyter.widget-view+json": {
       "model_id": "88866f40e5d94b8cae1f7426e4310c20",
       "version_major": 2,
       "version_minor": 0
      },
      "text/plain": [
       "  0%|          | 0/4014 [00:00<?, ?ba/s]"
      ]
     },
     "metadata": {},
     "output_type": "display_data"
    },
    {
     "name": "stderr",
     "output_type": "stream",
     "text": [
      "The following columns in the test set  don't have a corresponding argument in `RobertaForSequenceClassification.forward` and have been ignored: text. If text are not expected by `RobertaForSequenceClassification.forward`,  you can safely ignore this message.\n",
      "***** Running Prediction *****\n",
      "  Num examples = 128423\n",
      "  Batch size = 32\n"
     ]
    }
   ],
   "source": [
    "# Jul 2021\n",
    "df = pd.read_csv(\"..\\\\processed\\\\tweets\\\\Jul2021.csv\", names=('text', 'label', 'topic'))\n",
    "out1 = sentiment_analyzer.predict(df['text'])\n",
    "sen = [out1[i].output for i in range(len(out1))]\n",
    "out2 = emotion_analyzer.predict(df['text'])\n",
    "emo = [out2[i].output for i in range(len(out2))]\n",
    "df['sentiment'] = sen\n",
    "df['emotion'] = emo\n",
    "df.to_csv('..\\\\processed\\\\tweets\\\\Jul2021.csv', index = False, header = False)"
   ]
  },
  {
   "cell_type": "code",
   "execution_count": 33,
   "id": "214494e5-d95a-4355-ba0f-3d26298cc46c",
   "metadata": {},
   "outputs": [
    {
     "data": {
      "application/vnd.jupyter.widget-view+json": {
       "model_id": "46648dd45c7b4b4db5774328cf7efea9",
       "version_major": 2,
       "version_minor": 0
      },
      "text/plain": [
       "  0%|          | 0/4307 [00:00<?, ?ba/s]"
      ]
     },
     "metadata": {},
     "output_type": "display_data"
    },
    {
     "name": "stderr",
     "output_type": "stream",
     "text": [
      "The following columns in the test set  don't have a corresponding argument in `RobertaForSequenceClassification.forward` and have been ignored: text. If text are not expected by `RobertaForSequenceClassification.forward`,  you can safely ignore this message.\n",
      "***** Running Prediction *****\n",
      "  Num examples = 137801\n",
      "  Batch size = 32\n"
     ]
    },
    {
     "data": {
      "application/vnd.jupyter.widget-view+json": {
       "model_id": "57612ecb51de422f85ca29f0d874e96b",
       "version_major": 2,
       "version_minor": 0
      },
      "text/plain": [
       "  0%|          | 0/4307 [00:00<?, ?ba/s]"
      ]
     },
     "metadata": {},
     "output_type": "display_data"
    },
    {
     "name": "stderr",
     "output_type": "stream",
     "text": [
      "The following columns in the test set  don't have a corresponding argument in `RobertaForSequenceClassification.forward` and have been ignored: text. If text are not expected by `RobertaForSequenceClassification.forward`,  you can safely ignore this message.\n",
      "***** Running Prediction *****\n",
      "  Num examples = 137801\n",
      "  Batch size = 32\n"
     ]
    }
   ],
   "source": [
    "# Oct 2021\n",
    "df = pd.read_csv(\"..\\\\processed\\\\tweets\\\\Oct2021.csv\", names=('text', 'label', 'topic'))\n",
    "out1 = sentiment_analyzer.predict(df['text'])\n",
    "sen = [out1[i].output for i in range(len(out1))]\n",
    "out2 = emotion_analyzer.predict(df['text'])\n",
    "emo = [out2[i].output for i in range(len(out2))]\n",
    "df['sentiment'] = sen\n",
    "df['emotion'] = emo\n",
    "df.to_csv('..\\\\processed\\\\tweets\\\\Oct2021.csv', index = False, header = False)"
   ]
  },
  {
   "cell_type": "code",
   "execution_count": null,
   "id": "c1367f94-7eb7-48e8-b100-3da70f77a2b9",
   "metadata": {},
   "outputs": [],
   "source": []
  },
  {
   "cell_type": "code",
   "execution_count": 52,
   "id": "0c53fb4d-a038-41e2-a18f-14b92708ca4c",
   "metadata": {},
   "outputs": [],
   "source": [
    "def plot_sen(df, period, image_name):\n",
    "    dfa = df[df['topic'] == \"Masks\"]\n",
    "    dfap = round((dfa['sentiment'].value_counts()['POS'] / dfa['sentiment'].value_counts()) * 100, 2)\n",
    "    dfan = round((dfa['sentiment'].value_counts()['NEG'] / dfa['sentiment'].value_counts()) * 100, 2)\n",
    "    dfau = round((dfa['sentiment'].value_counts()['NEU'] / dfa['sentiment'].value_counts()) * 100, 2)\n",
    "\n",
    "    dfb = df[df['topic'] == \"Symptoms\"]\n",
    "    dfbp = round((dfb['sentiment'].value_counts()['POS'] / dfb['sentiment'].value_counts()) * 100, 2)\n",
    "    dfbn = round((dfb['sentiment'].value_counts()['NEG'] / dfb['sentiment'].value_counts()) * 100, 2)\n",
    "    dfbu = round((dfb['sentiment'].value_counts()['NEU'] / dfb['sentiment'].value_counts()) * 100, 2)\n",
    "\n",
    "    dfc = df[df['topic'] == \"Treatment\"]\n",
    "    dfcp = round((dfc['sentiment'].value_counts()['POS'] / dfc['sentiment'].value_counts()) * 100, 2)\n",
    "    dfcn = round((dfc['sentiment'].value_counts()['NEG'] / dfc['sentiment'].value_counts()) * 100, 2)\n",
    "    dfcu = round((dfc['sentiment'].value_counts()['NEU'] / dfc['sentiment'].value_counts()) * 100, 2)\n",
    "\n",
    "    dfd = df[df['topic'] == \"Science\"]\n",
    "    dfdp = round((dfd['sentiment'].value_counts()['POS'] / dfd['sentiment'].value_counts()) * 100, 2)\n",
    "    dfdn = round((dfd['sentiment'].value_counts()['NEG'] / dfd['sentiment'].value_counts()) * 100, 2)\n",
    "    dfdu = round((dfd['sentiment'].value_counts()['NEU'] / dfd['sentiment'].value_counts()) * 100, 2)\n",
    "\n",
    "    dfe = df[df['topic'] == \"Health\"]\n",
    "    dfep = round((dfe['sentiment'].value_counts()['POS'] / dfe['sentiment'].value_counts()) * 100, 2)\n",
    "    dfen = round((dfe['sentiment'].value_counts()['NEG'] / dfe['sentiment'].value_counts()) * 100, 2)\n",
    "    dfeu = round((dfe['sentiment'].value_counts()['NEU'] / dfe['sentiment'].value_counts()) * 100, 2)\n",
    "\n",
    "    dff = df[df['topic'] == \"Economy\"]\n",
    "    dffp = round((dff['sentiment'].value_counts()['POS'] / dff['sentiment'].value_counts()) * 100, 2)\n",
    "    dffn = round((dff['sentiment'].value_counts()['NEG'] / dff['sentiment'].value_counts()) * 100, 2)\n",
    "    dffu = round((dff['sentiment'].value_counts()['NEU'] / dff['sentiment'].value_counts()) * 100, 2)\n",
    "    \n",
    "    pos = [dfap, dfbp, dfcp, dfdp, dfep, dffp]\n",
    "    neg = [dfan, dfbn, dfcn, dfdn, dfen, dffn]\n",
    "    neu = [dfau, dfbu, dfcu, dfdu, dfeu, dffu]\n",
    "    \n",
    "    n=6\n",
    "    r = np.arange(n)\n",
    "    w = 0.25\n",
    "    \n",
    "    plt.bar(r, pos, color='#4594d0', width=w, edgecolor='black', label='Positive')\n",
    "    plt.bar(r+w, neg, color='#ecb77e', width=w, edgecolor='black', label='Negative')\n",
    "    plt.bar(r+w+w, neu, color='#c3ffa8', width=w, edgecolor='black', label='Neutral')\n",
    "    \n",
    "    plt.xlabel(\"Time Period\")\n",
    "    plt.ylabel(\"Sentiment Ration (%)\")\n",
    "    plt.title(\"{} Ratios of Sentiment per Topic\".format(period))\n",
    "    plt.xticks(r + width,['Masks','Symptoms','Treatment','Science','Health','Economy'])\n",
    "    plt.legend()\n",
    "    \n",
    "    plt.savefig(\"..\\\\processed\\\\images\\\\{}.png\".format(image_name), dpi=100)\n",
    "    \n",
    "def df2list(df):\n",
    "    dfa = df[df['emotion'] == \"joy\"]\n",
    "    dfb = df[df['emotion'] == \"sadness\"]\n",
    "    dfc = df[df['emotion'] == \"anger\"]\n",
    "    dfd = df[df['emotion'] == \"surprise\"]\n",
    "    dfe = df[df['emotion'] == \"disgust\"]\n",
    "    dff = df[df['emotion'] == \"fear\"]\n",
    "    df_out = pd.concat([dfa, dfb, dfc, dfd, dfe, dff])\n",
    "    out = df_out.iloc[:,4].tolist()\n",
    "    for i in range(len(out)):\n",
    "        if (out[i] == \"joy\"):\n",
    "            out[i] = 1\n",
    "        if (out[i] == \"sadness\"):\n",
    "            out[i] = 2\n",
    "        if (out[i] == \"anger\"):\n",
    "            out[i] = 3\n",
    "        if (out[i] == \"surprise\"):\n",
    "            out[i] = 4\n",
    "        if (out[i] == \"disgust\"):\n",
    "            out[i] = 5\n",
    "        if (out[i] == \"fear\"):\n",
    "            out[i] = 6\n",
    "    return out\n",
    "    \n",
    "def plot_emo(df, period, image_name):\n",
    "    df = df[df['label'] == 1]\n",
    "    dfa = df[df['topic'] == \"Masks\"]\n",
    "    dfb = df[df['topic'] == \"Symptoms\"]\n",
    "    dfc = df[df['topic'] == \"Treatment\"]\n",
    "    dfd = df[df['topic'] == \"Science\"]\n",
    "    dfe = df[df['topic'] == \"Health\"]\n",
    "    dff = df[df['topic'] == \"Economy\"]\n",
    "    \n",
    "    emo1 = df2list(dfa)\n",
    "    emo2 = df2list(dfb)\n",
    "    emo3 = df2list(dfc)\n",
    "    emo4 = df2list(dfd)\n",
    "    emo5 = df2list(dfe)\n",
    "    emo6 = df2list(dff)\n",
    "    \n",
    "    explode = [0.01, 0.01, 0.01, 0.01, 0.01, 0.01]\n",
    "    labels = ['Joy', 'Sadness', 'Anger', 'Surprise', 'Disgust', 'Fear']\n",
    "    \n",
    "    fig, axes = plt.subplots(2, 3, figsize=(20, 8))\n",
    "    \n",
    "    axes[0, 0].pie(emo1, labels=labels, explode=explode, autopct='%.0f%%')\n",
    "    axes[0, 0].title(\"Masks\")\n",
    "    \n",
    "    axes[0, 1].pie(emo1, labels=labels, explode=explode, autopct='%.0f%%')\n",
    "    axes[0, 1].title(\"Symptoms\")\n",
    "                     \n",
    "    axes[0, 2].pie(emo1, labels=labels, explode=explode, autopct='%.0f%%')\n",
    "    axes[0, 2].title(\"Treatment\")\n",
    "    \n",
    "    axes[1, 0].pie(emo1, labels=labels, explode=explode, autopct='%.0f%%')\n",
    "    axes[1, 0].title(\"Science\")\n",
    "    \n",
    "    axes[1, 1].pie(emo1, labels=labels, explode=explode, autopct='%.0f%%')\n",
    "    axes[1, 1].title(\"Health\")\n",
    "    \n",
    "    axes[1, 2].pie(emo1, labels=labels, explode=explode, autopct='%.0f%%')\n",
    "    axes[1, 2].title(\"Economy\")\n",
    "    \n",
    "    plt.title(\"{} Distribution of Emotions per Topic\".format(period))\n",
    "    plt.savefig(\"..\\\\processed\\\\images\\\\{}.png\".format(image_name), dpi=100)\n",
    "    "
   ]
  },
  {
   "cell_type": "code",
   "execution_count": 53,
   "id": "42fa918f-ec60-4bc2-bd93-309ba2537483",
   "metadata": {},
   "outputs": [
    {
     "ename": "ValueError",
     "evalue": "could not convert string to float: 'joy'",
     "output_type": "error",
     "traceback": [
      "\u001b[1;31m---------------------------------------------------------------------------\u001b[0m",
      "\u001b[1;31mValueError\u001b[0m                                Traceback (most recent call last)",
      "\u001b[1;32mC:\\Users\\SHAHZE~1\\AppData\\Local\\Temp/ipykernel_5264/2854255366.py\u001b[0m in \u001b[0;36m<module>\u001b[1;34m\u001b[0m\n\u001b[0;32m      1\u001b[0m \u001b[0mdf\u001b[0m \u001b[1;33m=\u001b[0m \u001b[0mdf\u001b[0m \u001b[1;33m=\u001b[0m \u001b[0mpd\u001b[0m\u001b[1;33m.\u001b[0m\u001b[0mread_csv\u001b[0m\u001b[1;33m(\u001b[0m\u001b[1;34m\"..\\\\processed\\\\tweets\\\\Jan2020.csv\"\u001b[0m\u001b[1;33m,\u001b[0m \u001b[0mnames\u001b[0m\u001b[1;33m=\u001b[0m\u001b[1;33m(\u001b[0m\u001b[1;34m'text'\u001b[0m\u001b[1;33m,\u001b[0m \u001b[1;34m'label'\u001b[0m\u001b[1;33m,\u001b[0m \u001b[1;34m'topic'\u001b[0m\u001b[1;33m,\u001b[0m \u001b[1;34m'sentiment'\u001b[0m\u001b[1;33m,\u001b[0m \u001b[1;34m'emotion'\u001b[0m\u001b[1;33m)\u001b[0m\u001b[1;33m)\u001b[0m\u001b[1;33m\u001b[0m\u001b[1;33m\u001b[0m\u001b[0m\n\u001b[0;32m      2\u001b[0m \u001b[1;31m#plot_sen(df, \"January 2020\", \"jan2020sen\")\u001b[0m\u001b[1;33m\u001b[0m\u001b[1;33m\u001b[0m\u001b[0m\n\u001b[1;32m----> 3\u001b[1;33m \u001b[0mplot_emo\u001b[0m\u001b[1;33m(\u001b[0m\u001b[0mdf\u001b[0m\u001b[1;33m,\u001b[0m \u001b[1;34m\"January 2020\"\u001b[0m\u001b[1;33m,\u001b[0m \u001b[1;34m\"jan2020emo\"\u001b[0m\u001b[1;33m)\u001b[0m\u001b[1;33m\u001b[0m\u001b[1;33m\u001b[0m\u001b[0m\n\u001b[0m",
      "\u001b[1;32mC:\\Users\\SHAHZE~1\\AppData\\Local\\Temp/ipykernel_5264/2735308605.py\u001b[0m in \u001b[0;36mplot_emo\u001b[1;34m(df, period, image_name)\u001b[0m\n\u001b[0;32m     82\u001b[0m     \u001b[0mfig\u001b[0m\u001b[1;33m,\u001b[0m \u001b[0maxes\u001b[0m \u001b[1;33m=\u001b[0m \u001b[0mplt\u001b[0m\u001b[1;33m.\u001b[0m\u001b[0msubplots\u001b[0m\u001b[1;33m(\u001b[0m\u001b[1;36m2\u001b[0m\u001b[1;33m,\u001b[0m \u001b[1;36m3\u001b[0m\u001b[1;33m,\u001b[0m \u001b[0mfigsize\u001b[0m\u001b[1;33m=\u001b[0m\u001b[1;33m(\u001b[0m\u001b[1;36m20\u001b[0m\u001b[1;33m,\u001b[0m \u001b[1;36m8\u001b[0m\u001b[1;33m)\u001b[0m\u001b[1;33m)\u001b[0m\u001b[1;33m\u001b[0m\u001b[1;33m\u001b[0m\u001b[0m\n\u001b[0;32m     83\u001b[0m \u001b[1;33m\u001b[0m\u001b[0m\n\u001b[1;32m---> 84\u001b[1;33m     \u001b[0maxes\u001b[0m\u001b[1;33m[\u001b[0m\u001b[1;36m0\u001b[0m\u001b[1;33m,\u001b[0m \u001b[1;36m0\u001b[0m\u001b[1;33m]\u001b[0m\u001b[1;33m.\u001b[0m\u001b[0mpie\u001b[0m\u001b[1;33m(\u001b[0m\u001b[0memo1\u001b[0m\u001b[1;33m,\u001b[0m \u001b[0mlabels\u001b[0m\u001b[1;33m=\u001b[0m\u001b[0mlabels\u001b[0m\u001b[1;33m,\u001b[0m \u001b[0mexplode\u001b[0m\u001b[1;33m=\u001b[0m\u001b[0mexplode\u001b[0m\u001b[1;33m,\u001b[0m \u001b[0mautopct\u001b[0m\u001b[1;33m=\u001b[0m\u001b[1;34m'%.0f%%'\u001b[0m\u001b[1;33m)\u001b[0m\u001b[1;33m\u001b[0m\u001b[1;33m\u001b[0m\u001b[0m\n\u001b[0m\u001b[0;32m     85\u001b[0m     \u001b[0maxes\u001b[0m\u001b[1;33m[\u001b[0m\u001b[1;36m0\u001b[0m\u001b[1;33m,\u001b[0m \u001b[1;36m0\u001b[0m\u001b[1;33m]\u001b[0m\u001b[1;33m.\u001b[0m\u001b[0mtitle\u001b[0m\u001b[1;33m(\u001b[0m\u001b[1;34m\"Masks\"\u001b[0m\u001b[1;33m)\u001b[0m\u001b[1;33m\u001b[0m\u001b[1;33m\u001b[0m\u001b[0m\n\u001b[0;32m     86\u001b[0m \u001b[1;33m\u001b[0m\u001b[0m\n",
      "\u001b[1;32m~\\miniconda3\\envs\\dick2\\lib\\site-packages\\matplotlib\\__init__.py\u001b[0m in \u001b[0;36minner\u001b[1;34m(ax, data, *args, **kwargs)\u001b[0m\n\u001b[0;32m   1410\u001b[0m     \u001b[1;32mdef\u001b[0m \u001b[0minner\u001b[0m\u001b[1;33m(\u001b[0m\u001b[0max\u001b[0m\u001b[1;33m,\u001b[0m \u001b[1;33m*\u001b[0m\u001b[0margs\u001b[0m\u001b[1;33m,\u001b[0m \u001b[0mdata\u001b[0m\u001b[1;33m=\u001b[0m\u001b[1;32mNone\u001b[0m\u001b[1;33m,\u001b[0m \u001b[1;33m**\u001b[0m\u001b[0mkwargs\u001b[0m\u001b[1;33m)\u001b[0m\u001b[1;33m:\u001b[0m\u001b[1;33m\u001b[0m\u001b[1;33m\u001b[0m\u001b[0m\n\u001b[0;32m   1411\u001b[0m         \u001b[1;32mif\u001b[0m \u001b[0mdata\u001b[0m \u001b[1;32mis\u001b[0m \u001b[1;32mNone\u001b[0m\u001b[1;33m:\u001b[0m\u001b[1;33m\u001b[0m\u001b[1;33m\u001b[0m\u001b[0m\n\u001b[1;32m-> 1412\u001b[1;33m             \u001b[1;32mreturn\u001b[0m \u001b[0mfunc\u001b[0m\u001b[1;33m(\u001b[0m\u001b[0max\u001b[0m\u001b[1;33m,\u001b[0m \u001b[1;33m*\u001b[0m\u001b[0mmap\u001b[0m\u001b[1;33m(\u001b[0m\u001b[0msanitize_sequence\u001b[0m\u001b[1;33m,\u001b[0m \u001b[0margs\u001b[0m\u001b[1;33m)\u001b[0m\u001b[1;33m,\u001b[0m \u001b[1;33m**\u001b[0m\u001b[0mkwargs\u001b[0m\u001b[1;33m)\u001b[0m\u001b[1;33m\u001b[0m\u001b[1;33m\u001b[0m\u001b[0m\n\u001b[0m\u001b[0;32m   1413\u001b[0m \u001b[1;33m\u001b[0m\u001b[0m\n\u001b[0;32m   1414\u001b[0m         \u001b[0mbound\u001b[0m \u001b[1;33m=\u001b[0m \u001b[0mnew_sig\u001b[0m\u001b[1;33m.\u001b[0m\u001b[0mbind\u001b[0m\u001b[1;33m(\u001b[0m\u001b[0max\u001b[0m\u001b[1;33m,\u001b[0m \u001b[1;33m*\u001b[0m\u001b[0margs\u001b[0m\u001b[1;33m,\u001b[0m \u001b[1;33m**\u001b[0m\u001b[0mkwargs\u001b[0m\u001b[1;33m)\u001b[0m\u001b[1;33m\u001b[0m\u001b[1;33m\u001b[0m\u001b[0m\n",
      "\u001b[1;32m~\\miniconda3\\envs\\dick2\\lib\\site-packages\\matplotlib\\axes\\_axes.py\u001b[0m in \u001b[0;36mpie\u001b[1;34m(self, x, explode, labels, colors, autopct, pctdistance, shadow, labeldistance, startangle, radius, counterclock, wedgeprops, textprops, center, frame, rotatelabels, normalize)\u001b[0m\n\u001b[0;32m   3040\u001b[0m         \u001b[1;31m# The use of float32 is \"historical\", but can't be changed without\u001b[0m\u001b[1;33m\u001b[0m\u001b[1;33m\u001b[0m\u001b[0m\n\u001b[0;32m   3041\u001b[0m         \u001b[1;31m# regenerating the test baselines.\u001b[0m\u001b[1;33m\u001b[0m\u001b[1;33m\u001b[0m\u001b[0m\n\u001b[1;32m-> 3042\u001b[1;33m         \u001b[0mx\u001b[0m \u001b[1;33m=\u001b[0m \u001b[0mnp\u001b[0m\u001b[1;33m.\u001b[0m\u001b[0masarray\u001b[0m\u001b[1;33m(\u001b[0m\u001b[0mx\u001b[0m\u001b[1;33m,\u001b[0m \u001b[0mnp\u001b[0m\u001b[1;33m.\u001b[0m\u001b[0mfloat32\u001b[0m\u001b[1;33m)\u001b[0m\u001b[1;33m\u001b[0m\u001b[1;33m\u001b[0m\u001b[0m\n\u001b[0m\u001b[0;32m   3043\u001b[0m         \u001b[1;32mif\u001b[0m \u001b[0mx\u001b[0m\u001b[1;33m.\u001b[0m\u001b[0mndim\u001b[0m \u001b[1;33m>\u001b[0m \u001b[1;36m1\u001b[0m\u001b[1;33m:\u001b[0m\u001b[1;33m\u001b[0m\u001b[1;33m\u001b[0m\u001b[0m\n\u001b[0;32m   3044\u001b[0m             \u001b[1;32mraise\u001b[0m \u001b[0mValueError\u001b[0m\u001b[1;33m(\u001b[0m\u001b[1;34m\"x must be 1D\"\u001b[0m\u001b[1;33m)\u001b[0m\u001b[1;33m\u001b[0m\u001b[1;33m\u001b[0m\u001b[0m\n",
      "\u001b[1;31mValueError\u001b[0m: could not convert string to float: 'joy'"
     ]
    },
    {
     "data": {
      "image/png": "[encoded data removed]",
      "text/plain": [
       "<Figure size 1440x576 with 6 Axes>"
      ]
     },
     "metadata": {
      "needs_background": "light"
     },
     "output_type": "display_data"
    }
   ],
   "source": [
    "df = df = pd.read_csv(\"..\\\\processed\\\\tweets\\\\Jan2020.csv\", names=('text', 'label', 'topic', 'sentiment', 'emotion'))\n",
    "#plot_sen(df, \"January 2020\", \"jan2020sen\")\n",
    "plot_emo(df, \"January 2020\", \"jan2020emo\")"
   ]
  },
  {
   "cell_type": "code",
   "execution_count": null,
   "id": "4b1af252-699e-40e0-9e25-2ddfb3bd6e73",
   "metadata": {},
   "outputs": [],
   "source": []
  }
 ],
 "metadata": {
  "kernelspec": {
   "display_name": "Python 3 (ipykernel)",
   "language": "python",
   "name": "python3"
  },
  "language_info": {
   "codemirror_mode": {
    "name": "ipython",
    "version": 3
   },
   "file_extension": ".py",
   "mimetype": "text/x-python",
   "name": "python",
   "nbconvert_exporter": "python",
   "pygments_lexer": "ipython3",
   "version": "3.9.9"
  }
 },
 "nbformat": 4,
 "nbformat_minor": 5
}
